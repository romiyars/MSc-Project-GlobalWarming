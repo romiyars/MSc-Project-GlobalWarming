{
 "cells": [
  {
   "cell_type": "code",
   "execution_count": 1,
   "id": "35c96efc",
   "metadata": {},
   "outputs": [
    {
     "ename": "ModuleNotFoundError",
     "evalue": "No module named 'statsmodels'",
     "output_type": "error",
     "traceback": [
      "\u001b[31m---------------------------------------------------------------------------\u001b[39m",
      "\u001b[31mModuleNotFoundError\u001b[39m                       Traceback (most recent call last)",
      "\u001b[36mCell\u001b[39m\u001b[36m \u001b[39m\u001b[32mIn[1]\u001b[39m\u001b[32m, line 6\u001b[39m\n\u001b[32m      4\u001b[39m \u001b[38;5;28;01mimport\u001b[39;00m\u001b[38;5;250m \u001b[39m\u001b[34;01mseaborn\u001b[39;00m\u001b[38;5;250m \u001b[39m\u001b[38;5;28;01mas\u001b[39;00m\u001b[38;5;250m \u001b[39m\u001b[34;01msns\u001b[39;00m\n\u001b[32m      5\u001b[39m \u001b[38;5;28;01mimport\u001b[39;00m\u001b[38;5;250m \u001b[39m\u001b[34;01mscipy\u001b[39;00m\u001b[34;01m.\u001b[39;00m\u001b[34;01mstats\u001b[39;00m\u001b[38;5;250m \u001b[39m\u001b[38;5;28;01mas\u001b[39;00m\u001b[38;5;250m \u001b[39m\u001b[34;01mstats\u001b[39;00m\n\u001b[32m----> \u001b[39m\u001b[32m6\u001b[39m \u001b[38;5;28;01mimport\u001b[39;00m\u001b[38;5;250m \u001b[39m\u001b[34;01mstatsmodels\u001b[39;00m\u001b[34;01m.\u001b[39;00m\u001b[34;01mapi\u001b[39;00m\u001b[38;5;250m \u001b[39m\u001b[38;5;28;01mas\u001b[39;00m\u001b[38;5;250m \u001b[39m\u001b[34;01msm\u001b[39;00m\n\u001b[32m      7\u001b[39m \u001b[38;5;28;01mfrom\u001b[39;00m\u001b[38;5;250m \u001b[39m\u001b[34;01mstatsmodels\u001b[39;00m\u001b[34;01m.\u001b[39;00m\u001b[34;01mformula\u001b[39;00m\u001b[34;01m.\u001b[39;00m\u001b[34;01mapi\u001b[39;00m\u001b[38;5;250m \u001b[39m\u001b[38;5;28;01mimport\u001b[39;00m ols\n\u001b[32m      8\u001b[39m \u001b[38;5;28;01mimport\u001b[39;00m\u001b[38;5;250m \u001b[39m\u001b[34;01mwarnings\u001b[39;00m\n",
      "\u001b[31mModuleNotFoundError\u001b[39m: No module named 'statsmodels'"
     ]
    }
   ],
   "source": [
    "import numpy as np \n",
    "import pandas as pd\n",
    "import matplotlib.pyplot as plt\n",
    "import seaborn as sns\n",
    "import scipy.stats as stats\n",
    "import statsmodels.api as sm\n",
    "from statsmodels.formula.api import ols\n",
    "import warnings\n",
    "warnings.filterwarnings(\"ignore\")"
   ]
  },
  {
   "cell_type": "markdown",
   "id": "7d657908",
   "metadata": {},
   "source": [
    "## Loading Data"
   ]
  },
  {
   "cell_type": "code",
   "execution_count": null,
   "id": "5da9e527",
   "metadata": {},
   "outputs": [],
   "source": [
    "data = pd.read_csv(r\"C:\\Users\\DELL\\CSV FILES\\city_temperature.csv\", low_memory=False)"
   ]
  },
  {
   "cell_type": "markdown",
   "id": "8eea2e58",
   "metadata": {},
   "source": [
    "## Information About Data"
   ]
  },
  {
   "cell_type": "code",
   "execution_count": null,
   "id": "3219fd04",
   "metadata": {},
   "outputs": [],
   "source": [
    "data.head(5)"
   ]
  },
  {
   "cell_type": "markdown",
   "id": "226a871d",
   "metadata": {},
   "source": [
    "*First 5 data of the dataset*"
   ]
  },
  {
   "cell_type": "code",
   "execution_count": null,
   "id": "c5a28902",
   "metadata": {},
   "outputs": [],
   "source": [
    "data.tail(5)"
   ]
  },
  {
   "cell_type": "markdown",
   "id": "4f2b5e40",
   "metadata": {},
   "source": [
    "*Last 5 data of the dataset*"
   ]
  },
  {
   "cell_type": "code",
   "execution_count": null,
   "id": "d2debfd1",
   "metadata": {},
   "outputs": [],
   "source": [
    "data.shape"
   ]
  },
  {
   "cell_type": "markdown",
   "id": "63b3a38a",
   "metadata": {},
   "source": [
    "*There is 2906327 row i.e. data and 8 column* "
   ]
  },
  {
   "cell_type": "code",
   "execution_count": null,
   "id": "ff119b08",
   "metadata": {},
   "outputs": [],
   "source": [
    "data.columns "
   ]
  },
  {
   "cell_type": "markdown",
   "id": "d38351f9",
   "metadata": {},
   "source": [
    "*These are the column name or attributes*"
   ]
  },
  {
   "cell_type": "code",
   "execution_count": null,
   "id": "bbf2d85a",
   "metadata": {},
   "outputs": [],
   "source": [
    "data.info()"
   ]
  },
  {
   "cell_type": "markdown",
   "id": "771e9b35",
   "metadata": {},
   "source": [
    "*This is the datatypes of the attributes*"
   ]
  },
  {
   "cell_type": "code",
   "execution_count": null,
   "id": "ba74736f",
   "metadata": {},
   "outputs": [],
   "source": [
    "data['Region'].unique()"
   ]
  },
  {
   "cell_type": "markdown",
   "id": "1e4522b2",
   "metadata": {},
   "source": [
    "***Quick Overview Of Data***"
   ]
  },
  {
   "cell_type": "code",
   "execution_count": null,
   "id": "ede4221a",
   "metadata": {},
   "outputs": [],
   "source": [
    "pd.options.display.float_format = '{:.2f}'.format # to avoid scientific notation\n",
    "data.describe()"
   ]
  },
  {
   "cell_type": "markdown",
   "id": "f2b1a0a6",
   "metadata": {},
   "source": [
    "*This is the Descriptive Statistics of the Dataset*"
   ]
  },
  {
   "cell_type": "markdown",
   "id": "e71c1ca6",
   "metadata": {},
   "source": [
    "## Data Preprocessing "
   ]
  },
  {
   "cell_type": "markdown",
   "id": "2bd14b72",
   "metadata": {},
   "source": [
    "***Missing Value Check***"
   ]
  },
  {
   "cell_type": "code",
   "execution_count": null,
   "id": "768f05e5",
   "metadata": {},
   "outputs": [],
   "source": [
    "# Count the number of missing values in each column\n",
    "missing_value_counts = data.isnull().sum()\n",
    "\n",
    "# Print the missing value counts\n",
    "print(\"Missing value counts:\")\n",
    "print(missing_value_counts)\n",
    "print()\n"
   ]
  },
  {
   "cell_type": "markdown",
   "id": "96f58dc0",
   "metadata": {},
   "source": [
    "*After checking, it is found that there are 1,450,990 missing values in the State column.*"
   ]
  },
  {
   "cell_type": "markdown",
   "id": "87f55d3e",
   "metadata": {},
   "source": [
    "***Duplicate Data Check***"
   ]
  },
  {
   "cell_type": "code",
   "execution_count": null,
   "id": "48668b26",
   "metadata": {},
   "outputs": [],
   "source": [
    "# Count the number of duplicated rows\n",
    "duplicated_rows_count = len(data[data.duplicated()])\n",
    "\n",
    "# Print the count of duplicated rows\n",
    "print(\"The number of duplicated rows: {}\".format(duplicated_rows_count))"
   ]
  },
  {
   "cell_type": "markdown",
   "id": "9b071955",
   "metadata": {},
   "source": [
    "*The dataset contains 20,715 duplicated rows.*"
   ]
  },
  {
   "cell_type": "markdown",
   "id": "9e26b8f0",
   "metadata": {},
   "source": [
    "***Handling Missing Value***"
   ]
  },
  {
   "cell_type": "code",
   "execution_count": null,
   "id": "4ebd04c2",
   "metadata": {},
   "outputs": [],
   "source": [
    "# Remove the 'State' column from the DataFrame\n",
    "data = data.drop(['State'], axis=1)\n",
    "data = data.drop(data[data['Country'] == 'Burundi'].index)\n"
   ]
  },
  {
   "cell_type": "markdown",
   "id": "bdff9160",
   "metadata": {},
   "source": [
    "*In order to handle missing values in the 'state' column, we have decided to remove the column entirely. This decision was made because approximately half of the data entries in this column were found to be missing. Replacing the missing values with mean or median values may introduce more errors and potentially distort the analysis. Therefore, it was deemed more appropriate to remove the column from the dataset altogether.*"
   ]
  },
  {
   "cell_type": "markdown",
   "id": "fb24de82",
   "metadata": {},
   "source": [
    "***Handling Duplicate Value***"
   ]
  },
  {
   "cell_type": "code",
   "execution_count": null,
   "id": "fe76e752",
   "metadata": {},
   "outputs": [],
   "source": [
    "\n",
    "# Remove duplicate rows from the DataFrame\n",
    "data = data.drop_duplicates()\n",
    "duplicated_rows_count = len(data[data.duplicated()])\n",
    "\n",
    "# Print the count of duplicated rows\n",
    "print(\"The number of duplicated rows: {}\".format(duplicated_rows_count))"
   ]
  },
  {
   "cell_type": "markdown",
   "id": "9ffd0ba0",
   "metadata": {},
   "source": [
    "*After careful examination, it was observed that there are no duplicated rows in the dataset.*"
   ]
  },
  {
   "cell_type": "markdown",
   "id": "13313818",
   "metadata": {},
   "source": [
    "## Exploratory Data Analysis "
   ]
  },
  {
   "cell_type": "markdown",
   "id": "00e9a27e",
   "metadata": {},
   "source": [
    "***Outlier Detection***"
   ]
  },
  {
   "cell_type": "code",
   "execution_count": null,
   "id": "d292ef93",
   "metadata": {},
   "outputs": [],
   "source": [
    "for i in data[['Month', 'Day', 'Year', 'AvgTemperature']]:\n",
    "    plt.figure()\n",
    "    boxplot_color = 'green'\n",
    "    sns.boxplot(data[i], color=boxplot_color, boxprops=dict(color=boxplot_color))"
   ]
  },
  {
   "cell_type": "markdown",
   "id": "0a75e001",
   "metadata": {},
   "source": [
    "*From the above boxplot, it is evident that there are outliers in the 'year' and 'AvgTemperature' variables.*"
   ]
  },
  {
   "cell_type": "code",
   "execution_count": null,
   "id": "62d66652",
   "metadata": {},
   "outputs": [],
   "source": [
    "data.groupby('Year')['AvgTemperature'].count()"
   ]
  },
  {
   "cell_type": "markdown",
   "id": "ccb76aec",
   "metadata": {},
   "source": [
    "*Based on the above observation that the years 200, 201, and 2020 have unusually small average temperatures, it has been decided to remove these three years from the dataset. This step is taken to mitigate potential errors in future analyses and modeling.*"
   ]
  },
  {
   "cell_type": "code",
   "execution_count": null,
   "id": "cb2e3e8e",
   "metadata": {},
   "outputs": [],
   "source": [
    "# Filter the DataFrame to include years greater than 1994\n",
    "data = data[data['Year'] >= 1995]\n",
    "\n",
    "# Filter the DataFrame to include years less than 2020\n",
    "data = data[data['Year'] <= 2019]\n",
    "\n",
    "# Filter the DataFrame to include average temperatures greater than -80\n",
    "data = data[data['AvgTemperature'] > -80]\n",
    "\n",
    "# print the filtered Data\n",
    "data.shape"
   ]
  },
  {
   "cell_type": "markdown",
   "id": "cc3a8dfc",
   "metadata": {},
   "source": [
    "*After performing data preprocessing steps, including the removal of null values, duplicate entries, and outliers, the dataset now consists of 2,766,880 rows or data points and 7 columns. These steps were undertaken to ensure the quality and reliability of the dataset for subsequent analysis and modeling.*"
   ]
  },
  {
   "cell_type": "markdown",
   "id": "743835d3",
   "metadata": {},
   "source": [
    "***Changing The Scale Of AvgTemperature***"
   ]
  },
  {
   "cell_type": "code",
   "execution_count": null,
   "id": "4c5b8311",
   "metadata": {},
   "outputs": [],
   "source": [
    "# transfering the scale of the AvgTemperature Fahrenheit to celcious\n",
    "data['AvgTemperature'] = (data['AvgTemperature'] - 32)*(5/9)"
   ]
  },
  {
   "cell_type": "markdown",
   "id": "0e7abac6",
   "metadata": {},
   "source": [
    "*In order to enhance the understanding of temperature, the scale of the 'AvgTemperature' variable has been converted from Fahrenheit to Celsius. This conversion allows for a more intuitive interpretation and analysis of the temperature values in the dataset.*"
   ]
  },
  {
   "cell_type": "markdown",
   "id": "acd94295",
   "metadata": {},
   "source": [
    "***Visualization***"
   ]
  },
  {
   "cell_type": "code",
   "execution_count": null,
   "id": "bf6c219d",
   "metadata": {},
   "outputs": [],
   "source": [
    "for i in data:\n",
    "    print(i ,': ', data[i].nunique())"
   ]
  },
  {
   "cell_type": "markdown",
   "id": "9b19efaa",
   "metadata": {},
   "source": [
    "*In the dataset, there are 7 unique regions, 124 unique countries, 320 unique cities, 25 unique years, and a total of 1,514 average temperature values. These figures provide an overview of the diversity and granularity of the data across different geographic regions, time periods, and temperature measurements.*"
   ]
  },
  {
   "cell_type": "code",
   "execution_count": null,
   "id": "be9e4b6f",
   "metadata": {},
   "outputs": [],
   "source": [
    "corr_val = data.corr()\n",
    "\n",
    "f,ax = plt.subplots(figsize=(6,6))\n",
    "sns.heatmap(corr_val,annot=True,linewidth=0.5,linecolor=\"White\",fmt=\".2f\",ax=ax)\n",
    "plt.show()"
   ]
  },
  {
   "cell_type": "code",
   "execution_count": null,
   "id": "8ddc9b8b",
   "metadata": {},
   "outputs": [],
   "source": [
    "# Group the data by year and calculate the average temperature for all regions\n",
    "global_avg_temp = data.groupby('Year')['AvgTemperature'].mean().reset_index()\n",
    "\n",
    "# Create a line plot to show global average temperature trends over the years\n",
    "plt.figure(figsize=(10, 4))\n",
    "plt.plot(global_avg_temp['Year'], global_avg_temp['AvgTemperature'], marker='o', linewidth=2)\n",
    "plt.title('Global Average Temperature Trend')\n",
    "plt.xlabel('Year')\n",
    "plt.ylabel('Average Temperature (°C)')\n",
    "plt.grid(True)\n",
    "plt.show()"
   ]
  },
  {
   "cell_type": "markdown",
   "id": "67482ba9",
   "metadata": {},
   "source": [
    "*From the above graph, it is evident that the global average temperature has been steadily increasing from the year 1995 to 2019. This observation indicates a clear upward trend in global temperatures over the analyzed period.*"
   ]
  },
  {
   "cell_type": "code",
   "execution_count": null,
   "id": "655b3714",
   "metadata": {},
   "outputs": [],
   "source": [
    "region_temp_trend = data.groupby(['Region', 'Year'])['AvgTemperature'].mean().reset_index()\n",
    "sns.lmplot(data= region_temp_trend, x= 'Year', y= 'AvgTemperature', hue= 'Region', height= 6)\n",
    "plt.title('Average temperature trend by Region over the years', fontsize= 16)\n",
    "plt.ylabel('Average temperature (°C)')\n",
    "plt.xlabel('Year')\n",
    "plt.show()\n"
   ]
  },
  {
   "cell_type": "markdown",
   "id": "4a4bc945",
   "metadata": {},
   "source": [
    "*From the above graph, it is evident that the average temperature is increasing over the years. This trend suggests a long-term rise in global temperatures, indicating the phenomenon of global warming.*"
   ]
  },
  {
   "cell_type": "code",
   "execution_count": null,
   "id": "7acda6e7",
   "metadata": {},
   "outputs": [],
   "source": [
    "data['Region'].unique()"
   ]
  },
  {
   "cell_type": "code",
   "execution_count": null,
   "id": "ad04b224",
   "metadata": {},
   "outputs": [],
   "source": [
    "# Filter the data for the \"Asia\" region\n",
    "Asia_data = data[data['Region'] == 'Asia']\n",
    "\n",
    "# Group the data by country and year, and calculate the average temperature\n",
    "country_avg_temp = Asia_data.groupby(['Country', 'Year'])['AvgTemperature'].mean().reset_index()\n",
    "\n",
    "# Plot the temperature of every country in Asia\n",
    "plt.figure(figsize=(6, 3))\n",
    "sns.lineplot(x='Year', y='AvgTemperature', hue='Country', units='Country',marker='^', dashes=False, estimator=None, lw=1, data=country_avg_temp)\n",
    "\n",
    "plt.title(\"Daily Average Temperature in every Country in Asia\")\n",
    "plt.xlabel(\"Year\")\n",
    "plt.ylabel(\"Average Temperature\")\n",
    "plt.legend(bbox_to_anchor = (1, 1), shadow = True, fontsize = 'small', title = 'Countries In Asia')\n",
    "plt.show()\n"
   ]
  },
  {
   "cell_type": "code",
   "execution_count": null,
   "id": "3ef078fd",
   "metadata": {},
   "outputs": [],
   "source": [
    "# Filter the data for the \"Africa\" region\n",
    "Africa_data = data[data['Region'] == 'Africa']\n",
    "\n",
    "# Group the data by country and year, and calculate the average temperature\n",
    "country_avg_temp = Africa_data.groupby(['Country', 'Year'])['AvgTemperature'].mean().reset_index()\n",
    "\n",
    "# Plot the temperature of every country in Africa\n",
    "plt.figure(figsize=(6, 3))\n",
    "sns.lineplot(x='Year', y='AvgTemperature', hue='Country', units='Country',marker='^', dashes=False, estimator=None, lw=1, data=country_avg_temp)\n",
    "\n",
    "plt.title(\"Daily Average Temperature in every Country in Africa\")\n",
    "plt.xlabel(\"Year\")\n",
    "plt.ylabel(\"Average Temperature\")\n",
    "plt.legend(bbox_to_anchor = (1, 1), shadow = True, fontsize = 'small', title = 'Countries In Africa')\n",
    "plt.show()\n"
   ]
  },
  {
   "cell_type": "code",
   "execution_count": null,
   "id": "ffa4eeeb",
   "metadata": {},
   "outputs": [],
   "source": [
    "\n",
    "# Filter the data for the \"Africa\" region\n",
    "America_Carribean_data = data[data['Region'] == 'South/Central America & Carribean']\n",
    "\n",
    "# Group the data by country and year, and calculate the average temperature\n",
    "country_avg_temp = America_Carribean_data.groupby(['Country', 'Year'])['AvgTemperature'].mean().reset_index()\n",
    "\n",
    "# Plot the temperature of every country in Africa\n",
    "plt.figure(figsize=(6, 3))\n",
    "sns.lineplot(x='Year', y='AvgTemperature', hue='Country', units='Country',marker='^', dashes=False, estimator=None, lw=1, data=country_avg_temp)\n",
    "\n",
    "plt.title(\"Daily Average Temperature in every Country in South/Central America & Carribean\")\n",
    "plt.xlabel(\"Year\")\n",
    "plt.ylabel(\"Average Temperature\")\n",
    "plt.legend(bbox_to_anchor = (1, 1), shadow = True, fontsize = 'small', title = 'Countries In South/Central America & Carribean')\n",
    "plt.show()\n"
   ]
  },
  {
   "cell_type": "code",
   "execution_count": null,
   "id": "b59556c1",
   "metadata": {},
   "outputs": [],
   "source": [
    "\n",
    "# Filter the data for the \"Africa\" region\n",
    "africa_data = data[data['Region'] == 'Europe']\n",
    "\n",
    "# Group the data by country and year, and calculate the average temperature\n",
    "country_avg_temp = africa_data.groupby(['Country', 'Year'])['AvgTemperature'].mean().reset_index()\n",
    "\n",
    "# Plot the temperature of every country in Africa\n",
    "plt.figure(figsize=(10, 5))\n",
    "sns.lineplot(x='Year', y='AvgTemperature', hue='Country', units='Country', markers=True, dashes=False,\n",
    "             estimator=None, lw=1, data=country_avg_temp)\n",
    "\n",
    "plt.title(\"Daily Average Temperature in every Country in Europe\")\n",
    "plt.xlabel(\"Year\")\n",
    "plt.ylabel(\"Average Temperature\")\n",
    "plt.legend(bbox_to_anchor = (1, 1), shadow = True, fontsize = 'small', title = 'Countries In Europe')\n",
    "plt.show()\n"
   ]
  },
  {
   "cell_type": "markdown",
   "id": "7ecefa86",
   "metadata": {},
   "source": [
    "***The trend analysis by region over the years did not provide a clear visualization of the temperature increase,*** \n",
    "\n",
    "*To obtain a clearer visualization of the temperature trend and understand how the average temperatures are changing, it would be beneficial to explore the average temperature trends by individual countries and cities. By analyzing the average temperature variations within specific geographic locations, we can gain more detailed insights into temperature patterns and potentially observe clearer evidence of temperature increase or other trends at a more localized level.*"
   ]
  },
  {
   "cell_type": "code",
   "execution_count": null,
   "id": "3c26e5d8",
   "metadata": {},
   "outputs": [],
   "source": [
    "Europe_data = data[data['Region'] == 'Europe']\n",
    "Europe_data['Country'].unique()"
   ]
  },
  {
   "cell_type": "code",
   "execution_count": null,
   "id": "0b2b1266",
   "metadata": {},
   "outputs": [],
   "source": [
    "avg_temp_Austria = data[data['Country'] == 'Austria'].groupby(data.Year).mean() # Europe Region Country\n",
    "\n",
    "plt.title(\"Temperature in every year in Austria\")\n",
    "\n",
    "plt.xlabel('Years')\n",
    "plt.ylabel('Temperatures (C)')\n",
    "plt.errorbar(avg_temp_Austria.index, avg_temp_Austria.AvgTemperature, color='green', fmt='--', label='Data')\n",
    "plt.plot(avg_temp_Austria.index, avg_temp_Austria.AvgTemperature, color='black', linewidth=2, label='Line')\n",
    "plt.legend()\n",
    "plt.show()"
   ]
  },
  {
   "cell_type": "code",
   "execution_count": null,
   "id": "2477673a",
   "metadata": {},
   "outputs": [],
   "source": [
    "avg_temp_Macedonia = data[data['Country'] == 'Macedonia'].groupby(data.Year).mean() # Europe Region Country\n",
    "\n",
    "plt.title(\"Temperature in every year in Macedonia\")\n",
    "\n",
    "plt.xlabel('Years')\n",
    "plt.ylabel('Temperatures (C)')\n",
    "plt.errorbar(avg_temp_Macedonia.index, avg_temp_Macedonia.AvgTemperature, color='red', fmt='--', label='Data')\n",
    "plt.plot(avg_temp_Macedonia.index, avg_temp_Macedonia.AvgTemperature, color='black', linewidth=2, label='Line')\n",
    "plt.legend()\n",
    "plt.show()"
   ]
  },
  {
   "cell_type": "code",
   "execution_count": null,
   "id": "23f03e21",
   "metadata": {},
   "outputs": [],
   "source": [
    "avg_temp_Cyprus = data[data['Country'] == 'Cyprus'].groupby(data.Year).mean()\n",
    "\n",
    "plt.title(\"Temperature in every year in Cyprus\")\n",
    "\n",
    "plt.xlabel('Years')\n",
    "plt.ylabel('Temperatures (C)')\n",
    "plt.errorbar(avg_temp_Cyprus.index, avg_temp_Cyprus.AvgTemperature, color='red', fmt='--', label='Data')\n",
    "plt.plot(avg_temp_Cyprus.index, avg_temp_Cyprus.AvgTemperature, color='blue', linewidth=2, label='Line')\n",
    "plt.legend()\n",
    "plt.show()\n"
   ]
  },
  {
   "cell_type": "code",
   "execution_count": null,
   "id": "6650ae5f",
   "metadata": {},
   "outputs": [],
   "source": [
    "avg_temp_Iceland = data[data['Country'] == 'Iceland'].groupby(data.Year).mean() # Europe Region Country\n",
    "\n",
    "plt.title(\"Temperature in every year in Iceland\")\n",
    "\n",
    "plt.xlabel('Years')\n",
    "plt.ylabel('Temperatures (C)')\n",
    "plt.errorbar(avg_temp_Iceland.index, avg_temp_Iceland.AvgTemperature, color='red', fmt='--', label='Data')\n",
    "plt.plot(avg_temp_Iceland.index, avg_temp_Iceland.AvgTemperature, color='green', linewidth=2, label='Line')\n",
    "plt.legend()\n",
    "plt.show()"
   ]
  },
  {
   "cell_type": "code",
   "execution_count": null,
   "id": "36031025",
   "metadata": {},
   "outputs": [],
   "source": [
    "Europe_data = data[data['Region'] == 'Europe']\n",
    "Europe_data['City'].unique()"
   ]
  },
  {
   "cell_type": "code",
   "execution_count": null,
   "id": "b6be591c",
   "metadata": {},
   "outputs": [],
   "source": [
    "avg_temp_Vienna = data[data['City'] == 'Vienna'].groupby(data.Year).mean()\n",
    "\n",
    "plt.title(\"Temperature in every year in Vienna\")\n",
    "\n",
    "plt.xlabel('Years')\n",
    "plt.ylabel('Temperatures (C)')\n",
    "plt.errorbar(avg_temp_Vienna.index, avg_temp_Vienna.AvgTemperature, color='black', fmt='*', label='Data')\n",
    "plt.plot(avg_temp_Vienna.index, avg_temp_Vienna.AvgTemperature, color='magenta', linewidth=3, label='Line')\n",
    "plt.legend()\n",
    "plt.show()\n"
   ]
  },
  {
   "cell_type": "code",
   "execution_count": null,
   "id": "9e96f486",
   "metadata": {},
   "outputs": [],
   "source": [
    "avg_temp_Belgrade = data[data['City'] == 'Belgrade'].groupby(data.Year).mean()\n",
    "\n",
    "plt.title(\"Temperature in every year in Belgrade\")\n",
    "\n",
    "plt.xlabel('Years')\n",
    "plt.ylabel('Temperatures (C)')\n",
    "plt.errorbar(avg_temp_Belgrade.index, avg_temp_Belgrade.AvgTemperature, color='red', fmt='*', label='Data')\n",
    "plt.plot(avg_temp_Belgrade.index, avg_temp_Belgrade.AvgTemperature, color='black', linewidth=3, label='Line')\n",
    "plt.legend()\n",
    "plt.show()\n"
   ]
  },
  {
   "cell_type": "code",
   "execution_count": null,
   "id": "2d2cb158",
   "metadata": {},
   "outputs": [],
   "source": [
    "avg_temp_Moscow = data[data['City'] == 'Moscow'].groupby(data.Year).mean()\n",
    "\n",
    "plt.title(\"Temperature in every year in Moscow\")\n",
    "\n",
    "plt.xlabel('Years')\n",
    "plt.ylabel('Temperatures (C)')\n",
    "plt.errorbar(avg_temp_Moscow.index, avg_temp_Moscow.AvgTemperature, color='red', fmt='*', label='Data')\n",
    "plt.plot(avg_temp_Moscow.index, avg_temp_Moscow.AvgTemperature, color='green', linewidth=3, label='Line')\n",
    "plt.legend()\n",
    "plt.show()\n"
   ]
  },
  {
   "cell_type": "code",
   "execution_count": null,
   "id": "5e081ac5",
   "metadata": {},
   "outputs": [],
   "source": [
    "import matplotlib.pyplot as plt\n",
    "avg_temp_Warsaw = data[data['City'] == 'Warsaw'].groupby(data.Year).mean()\n",
    "\n",
    "plt.title(\"Temperature in every year in Warsaw\")\n",
    "\n",
    "plt.xlabel('Years')\n",
    "plt.ylabel('Temperatures (C)')\n",
    "plt.errorbar(avg_temp_Warsaw.index, avg_temp_Warsaw.AvgTemperature, color='black', fmt='*', label='Data')\n",
    "plt.plot(avg_temp_Warsaw.index, avg_temp_Warsaw.AvgTemperature, color='blue', linewidth=2.5, label='Line')\n",
    "plt.legend()\n",
    "plt.show()\n"
   ]
  },
  {
   "cell_type": "code",
   "execution_count": null,
   "id": "e29feb82",
   "metadata": {},
   "outputs": [],
   "source": []
  },
  {
   "cell_type": "code",
   "execution_count": null,
   "id": "9dda698f",
   "metadata": {},
   "outputs": [],
   "source": [
    "import matplotlib.pyplot as plt\n",
    "import seaborn as sns\n",
    "\n",
    "# Filter the data for the \"Africa\" region\n",
    "africa_data = data[data['Region'] == 'Asia']\n",
    "\n",
    "# Group the data by country and year, and calculate the average temperature\n",
    "country_avg_temp = africa_data.groupby(['Country', 'Year'])['AvgTemperature'].mean().reset_index()\n",
    "\n",
    "# Plot the temperature of every country in Africa\n",
    "plt.figure(figsize=(8, 5))\n",
    "sns.lineplot(x='Year', y='AvgTemperature', hue='Country', units='Country', markers=True, dashes=False,\n",
    "             estimator=None, lw=1, data=country_avg_temp)\n",
    "\n",
    "plt.title(\"Daily Average Temperature in every Country in Asia\")\n",
    "plt.xlabel(\"Year\")\n",
    "plt.ylabel(\"Average Temperature\")\n",
    "plt.legend(bbox_to_anchor = (1, 1), shadow = True, fontsize = 'small', title = 'Countries In Asia')\n",
    "plt.show()\n"
   ]
  },
  {
   "cell_type": "markdown",
   "id": "0bec434b",
   "metadata": {},
   "source": [
    "*Based on the above figure of daily average temperature in every country in Asia, it can be inferred, although not clearly visible, that the temperatures in Asian countries are increasing over time. This suggests a possible trend of rising temperatures in the region. However, further analysis and visualization may be required to establish a more conclusive understanding of temperature patterns in African countries.*"
   ]
  },
  {
   "cell_type": "code",
   "execution_count": null,
   "id": "0cb7446c",
   "metadata": {},
   "outputs": [],
   "source": [
    "import matplotlib.pyplot as plt\n",
    "import seaborn as sns\n",
    "\n",
    "# Filter the data for the \"Africa\" region\n",
    "Middle_East_data = data[data['Region'] == 'Middle East']\n",
    "\n",
    "# Group the data by country and year, and calculate the average temperature\n",
    "country_avg_temp_Middle_East = Middle_East_data.groupby(['Country', 'Year'])['AvgTemperature'].mean().reset_index()\n",
    "\n",
    "# Plot the temperature of every country in Middle East\n",
    "plt.figure(figsize=(6, 3))\n",
    "sns.lineplot(x='Year', y='AvgTemperature', hue='Country', units='Country',marker='^', dashes=False, estimator=None, lw=1, data=country_avg_temp_Middle_East)\n",
    "\n",
    "plt.title(\"Daily Average Temperature in every Country in Middle East\")\n",
    "plt.xlabel(\"Year\")\n",
    "plt.ylabel(\"Average Temperature\")\n",
    "plt.legend(bbox_to_anchor = (1, 1), shadow = True, fontsize = 'large', title = 'Countries In Middle East')\n",
    "plt.show()\n"
   ]
  },
  {
   "cell_type": "code",
   "execution_count": null,
   "id": "806317ae",
   "metadata": {},
   "outputs": [],
   "source": [
    "avg_temp_Kuwait = data[data['Country'] == 'Kuwait'].groupby(data.Year).mean() # Europe Region Country\n",
    "\n",
    "plt.title(\"Temperature in every year in Kuwait\")\n",
    "\n",
    "plt.xlabel('Years')\n",
    "plt.ylabel('Temperatures (C)')\n",
    "plt.errorbar(avg_temp_Kuwait.index, avg_temp_Kuwait.AvgTemperature, color='green', fmt='^', label='Data')\n",
    "plt.plot(avg_temp_Kuwait.index, avg_temp_Kuwait.AvgTemperature, color='magenta', linewidth=2, label='Line')\n",
    "plt.legend()\n",
    "plt.show()"
   ]
  },
  {
   "cell_type": "code",
   "execution_count": null,
   "id": "f4a8f19a",
   "metadata": {},
   "outputs": [],
   "source": [
    "avg_temp_Turkey = data[data['Country'] == 'Turkey'].groupby(data.Year).mean() # Europe Region Country\n",
    "\n",
    "plt.title(\"Temperature in every year in Turkey\")\n",
    "\n",
    "plt.xlabel('Years')\n",
    "plt.ylabel('Temperatures (C)')\n",
    "plt.errorbar(avg_temp_Turkey.index, avg_temp_Turkey.AvgTemperature, color='red', fmt='^', label='Data')\n",
    "plt.plot(avg_temp_Turkey.index, avg_temp_Turkey.AvgTemperature, color='black', linewidth=2, label='Line')\n",
    "plt.legend()\n",
    "plt.show()"
   ]
  },
  {
   "cell_type": "code",
   "execution_count": null,
   "id": "5b8dc311",
   "metadata": {},
   "outputs": [],
   "source": [
    "avg_temp_Arabia = data[data['Country'] == 'Saudi Arabia'].groupby(data.Year).mean() # Europe Region Country\n",
    "\n",
    "plt.title(\"Temperature in every year in Saudi Arabia\")\n",
    "\n",
    "plt.xlabel('Years')\n",
    "plt.ylabel('Temperatures (C)')\n",
    "plt.errorbar(avg_temp_Arabia.index, avg_temp_Arabia.AvgTemperature, color='red', fmt='^', label='Data')\n",
    "plt.plot(avg_temp_Arabia.index, avg_temp_Arabia.AvgTemperature, color='grey', linewidth=2, label='Line')\n",
    "plt.legend()\n",
    "plt.show()"
   ]
  },
  {
   "cell_type": "code",
   "execution_count": null,
   "id": "3e50ffca",
   "metadata": {},
   "outputs": [],
   "source": [
    "avg_temp_Bahrain = data[data['Country'] == 'Bahrain'].groupby(data.Year).mean() # Europe Region Country\n",
    "\n",
    "plt.title(\"Temperature in every year in Bahrain\")\n",
    "\n",
    "plt.xlabel('Years')\n",
    "plt.ylabel('Temperatures (C)')\n",
    "plt.errorbar(avg_temp_Bahrain.index, avg_temp_Bahrain.AvgTemperature, color='blue', fmt='^', label='Data')\n",
    "plt.plot(avg_temp_Bahrain.index, avg_temp_Bahrain.AvgTemperature, color='green', linewidth=3, label='Line')\n",
    "plt.legend()\n",
    "plt.show()"
   ]
  },
  {
   "cell_type": "code",
   "execution_count": null,
   "id": "f135eef0",
   "metadata": {},
   "outputs": [],
   "source": [
    "Europe_data = data[data['Region'] == 'Middle East']\n",
    "Europe_data['City'].unique()"
   ]
  },
  {
   "cell_type": "code",
   "execution_count": null,
   "id": "7c6a026a",
   "metadata": {},
   "outputs": [],
   "source": [
    "avg_temp_Riyadh = data[data['City'] == 'Riyadh'].groupby(data.Year).mean() # Europe Region Country\n",
    "\n",
    "plt.title(\"Temperature in every year in Riyadh\")\n",
    "\n",
    "plt.xlabel('Years')\n",
    "plt.ylabel('Temperatures (C)')\n",
    "plt.errorbar(avg_temp_Riyadh.index, avg_temp_Riyadh.AvgTemperature, color='white', fmt='-', label='Data')\n",
    "plt.plot(avg_temp_Riyadh.index, avg_temp_Riyadh.AvgTemperature, color='black', linewidth=3, label='Line')\n",
    "plt.legend()\n",
    "plt.show()"
   ]
  },
  {
   "cell_type": "code",
   "execution_count": null,
   "id": "19a380c2",
   "metadata": {},
   "outputs": [],
   "source": [
    "avg_temp_Dhahran = data[data['City'] == 'Dhahran'].groupby(data.Year).mean() # Europe Region Country\n",
    "\n",
    "plt.title(\"Temperature in every year in Dhahran\")\n",
    "\n",
    "plt.xlabel('Years')\n",
    "plt.ylabel('Temperatures (C)')\n",
    "plt.errorbar(avg_temp_Dhahran.index, avg_temp_Dhahran.AvgTemperature, color='cyan', fmt='-', label='Data')\n",
    "plt.plot(avg_temp_Dhahran.index, avg_temp_Dhahran.AvgTemperature, color='black', linewidth=3, label='Line')\n",
    "plt.legend()\n",
    "plt.show()"
   ]
  },
  {
   "cell_type": "code",
   "execution_count": null,
   "id": "cf632860",
   "metadata": {},
   "outputs": [],
   "source": [
    "avg_temp_Dubai = data[data['City'] == 'Dubai'].groupby(data.Year).mean() # Europe Region Country\n",
    "\n",
    "plt.title(\"Temperature in every year in Dubai\")\n",
    "\n",
    "plt.xlabel('Years')\n",
    "plt.ylabel('Temperatures (C)')\n",
    "plt.errorbar(avg_temp_Dubai.index, avg_temp_Dubai.AvgTemperature, color='yellow', fmt='-', label='Data')\n",
    "plt.plot(avg_temp_Dubai.index, avg_temp_Dubai.AvgTemperature, color='black', linewidth=3, label='Line')\n",
    "plt.legend()\n",
    "plt.show()"
   ]
  },
  {
   "cell_type": "code",
   "execution_count": null,
   "id": "dc2e5507",
   "metadata": {},
   "outputs": [],
   "source": [
    "avg_temp_Istanbul = data[data['City'] == 'Istanbul'].groupby(data.Year).mean() # Europe Region Country\n",
    "\n",
    "plt.title(\"Temperature in every year in Istanbul\")\n",
    "\n",
    "plt.xlabel('Years')\n",
    "plt.ylabel('Temperatures (C)')\n",
    "plt.errorbar(avg_temp_Istanbul.index, avg_temp_Istanbul.AvgTemperature, color='green', fmt='-', label='Data')\n",
    "plt.plot(avg_temp_Istanbul.index, avg_temp_Istanbul.AvgTemperature, color='black', linewidth=2, label='Line')\n",
    "plt.legend()\n",
    "plt.show()"
   ]
  },
  {
   "cell_type": "code",
   "execution_count": null,
   "id": "91f0a6ba",
   "metadata": {},
   "outputs": [],
   "source": [
    "import matplotlib.pyplot as plt\n",
    "avg_temp_Australia = data[data['Country'] == 'Australia'].groupby(data.Year).mean()\n",
    "\n",
    "plt.title(\"Temperature in every year in Australia\")\n",
    "\n",
    "plt.xlabel('Years')\n",
    "plt.ylabel('Temperatures (C)')\n",
    "plt.errorbar(avg_temp_Australia.index, avg_temp_Australia.AvgTemperature, color='blue', fmt='--', label='Data')\n",
    "plt.plot(avg_temp_Australia.index, avg_temp_Australia.AvgTemperature, color='green', linewidth=2, label='Line')\n",
    "plt.legend()\n",
    "plt.show()\n"
   ]
  },
  {
   "cell_type": "code",
   "execution_count": null,
   "id": "53c8bc30",
   "metadata": {},
   "outputs": [],
   "source": [
    "import matplotlib.pyplot as plt\n",
    "avg_temp_India = data[data['Country'] == 'India'].groupby(data.Year).mean()\n",
    "\n",
    "plt.title(\"Temperature in every year in India\")\n",
    "\n",
    "plt.xlabel('Years')\n",
    "plt.ylabel('Temperatures (C)')\n",
    "plt.errorbar(avg_temp_India.index, avg_temp_India.AvgTemperature, color='black', fmt='--', label='Data')\n",
    "plt.plot(avg_temp_India.index, avg_temp_India.AvgTemperature, color='green', linewidth=2, label='Line')\n",
    "plt.legend()\n",
    "plt.show()\n"
   ]
  },
  {
   "cell_type": "code",
   "execution_count": null,
   "id": "8bfc6afb",
   "metadata": {},
   "outputs": [],
   "source": [
    "import matplotlib.pyplot as plt\n",
    "avg_temp_China = data[data['Country'] == 'China'].groupby(data.Year).mean()\n",
    "\n",
    "plt.title(\"Temperature in every year in China\")\n",
    "\n",
    "plt.xlabel('Years')\n",
    "plt.ylabel('Temperatures (C)')\n",
    "plt.errorbar(avg_temp_China.index, avg_temp_China.AvgTemperature, color='black', fmt='--', label='Data')\n",
    "plt.plot(avg_temp_China.index, avg_temp_China.AvgTemperature, color='red', linewidth=2, label='Line')\n",
    "plt.legend()\n",
    "plt.show()\n"
   ]
  },
  {
   "cell_type": "code",
   "execution_count": null,
   "id": "2745105f",
   "metadata": {},
   "outputs": [],
   "source": [
    "data.groupby('Region')['City'].unique()"
   ]
  },
  {
   "cell_type": "code",
   "execution_count": null,
   "id": "5884f18e",
   "metadata": {},
   "outputs": [],
   "source": [
    "africa_data = data[data['Region'] == 'South/Central America & Carribean']\n",
    "africa_data['City'].unique()"
   ]
  },
  {
   "cell_type": "code",
   "execution_count": null,
   "id": "e05d40d4",
   "metadata": {},
   "outputs": [],
   "source": [
    "avg_temp_Brasilia = data[data['City'] == 'Brasilia'].groupby(data.Year).mean() # Region South/Central America & Carribean\n",
    "\n",
    "plt.title(\"Temperature in every year in Brasilia\")\n",
    "\n",
    "plt.xlabel('Years')\n",
    "plt.ylabel('Temperatures (C)')\n",
    "plt.errorbar(avg_temp_Brasilia.index, avg_temp_Brasilia.AvgTemperature, color='grey', fmt='*', label='Data')\n",
    "plt.plot(avg_temp_Brasilia.index, avg_temp_Brasilia.AvgTemperature, color='red', linewidth=2, label='Line')\n",
    "plt.legend()\n",
    "plt.show()"
   ]
  },
  {
   "cell_type": "code",
   "execution_count": null,
   "id": "83787bb2",
   "metadata": {},
   "outputs": [],
   "source": [
    "avg_temp_Honolulu = data[data['City'] == 'Honolulu'].groupby(data.Year).mean()\n",
    "\n",
    "plt.title(\"Temperature in every year in Honolulu\")\n",
    "\n",
    "plt.xlabel('Years')\n",
    "plt.ylabel('Temperatures (C)')\n",
    "plt.errorbar(avg_temp_Honolulu.index, avg_temp_Honolulu.AvgTemperature, color='black', fmt='o', label='Data')\n",
    "plt.plot(avg_temp_Honolulu.index, avg_temp_Honolulu.AvgTemperature, color='grey', linewidth=2, label='Line')\n",
    "plt.legend()\n",
    "plt.show()"
   ]
  },
  {
   "cell_type": "code",
   "execution_count": null,
   "id": "9eca2897",
   "metadata": {},
   "outputs": [],
   "source": [
    "avg_temp_Brisbane = data[data['City'] == 'Brisbane'].groupby(data.Year).mean()\n",
    "\n",
    "plt.title(\"Temperature in every year in Brisbane\")\n",
    "\n",
    "plt.xlabel('Years')\n",
    "plt.ylabel('Temperatures (C)')\n",
    "plt.errorbar(avg_temp_Brisbane.index, avg_temp_Brisbane.AvgTemperature, color='pink', fmt='--', label='Data')\n",
    "plt.plot(avg_temp_Brisbane.index, avg_temp_Brisbane.AvgTemperature, color='green', linewidth=2, label='Line')\n",
    "plt.legend()\n",
    "plt.show()"
   ]
  },
  {
   "cell_type": "code",
   "execution_count": null,
   "id": "0f34222b",
   "metadata": {},
   "outputs": [],
   "source": [
    "avg_temp_Moscow = data[data['City'] == 'Moscow'].groupby(data.Year).mean()\n",
    "\n",
    "plt.title(\"Temperature in every year in Moscow\")\n",
    "\n",
    "plt.xlabel('Years')\n",
    "plt.ylabel('Temperatures (C)')\n",
    "plt.errorbar(avg_temp_Moscow.index, avg_temp_Moscow.AvgTemperature, color='black', fmt='*', label='Data')\n",
    "plt.plot(avg_temp_Moscow.index, avg_temp_Moscow.AvgTemperature, color='purple', linewidth=2, label='Line')\n",
    "plt.legend()\n",
    "plt.show()\n"
   ]
  },
  {
   "cell_type": "code",
   "execution_count": null,
   "id": "144f1e89",
   "metadata": {},
   "outputs": [],
   "source": [
    "avg_temp_Zagreb = data[data['City'] == 'Zagreb'].groupby(data.Year).mean()\n",
    "\n",
    "plt.title(\"Temperature in every year in Zagreb\")\n",
    "\n",
    "plt.xlabel('Years')\n",
    "plt.ylabel('Temperatures (C)')\n",
    "plt.errorbar(avg_temp_Zagreb.index, avg_temp_Zagreb.AvgTemperature, color='black', fmt='--', label='Data')\n",
    "plt.plot(avg_temp_Zagreb.index, avg_temp_Zagreb.AvgTemperature, color='blue', linewidth=2, label='Line')\n",
    "plt.legend()\n",
    "plt.show()"
   ]
  },
  {
   "cell_type": "code",
   "execution_count": null,
   "id": "f71dcd75",
   "metadata": {},
   "outputs": [],
   "source": [
    "avg_temp_Chennai = data[data['City'] == 'Chennai (Madras)'].groupby(data.Year).mean()\n",
    "\n",
    "plt.title(\"Temperature in every year in Chennai (Madras)\")\n",
    "\n",
    "plt.xlabel('Years')\n",
    "plt.ylabel('Temperatures (C)')\n",
    "plt.errorbar(avg_temp_Chennai.index, avg_temp_Chennai.AvgTemperature, color='black', fmt='--', label='Data')\n",
    "plt.plot(avg_temp_Chennai.index, avg_temp_Chennai.AvgTemperature, color='green', linewidth=2, label='Line')\n",
    "plt.legend()\n",
    "plt.show()"
   ]
  },
  {
   "cell_type": "code",
   "execution_count": null,
   "id": "6ce39eea",
   "metadata": {},
   "outputs": [],
   "source": []
  },
  {
   "cell_type": "code",
   "execution_count": null,
   "id": "76e389b7",
   "metadata": {},
   "outputs": [],
   "source": [
    "# The filtered data is \n",
    "df= data.sample(2000)\n",
    "df"
   ]
  },
  {
   "cell_type": "markdown",
   "id": "6bf34eca",
   "metadata": {},
   "source": [
    "## Feature Selection "
   ]
  },
  {
   "cell_type": "code",
   "execution_count": null,
   "id": "145c884e",
   "metadata": {},
   "outputs": [],
   "source": [
    "df_x = df.loc[:,[\"Region\",\"Country\",\"City\",\"Month\",\"Day\",\"Year\"]]\n",
    "df_y = df.loc[:,[\"AvgTemperature\"]]"
   ]
  },
  {
   "cell_type": "markdown",
   "id": "b742ea34",
   "metadata": {},
   "source": [
    "## Feature Engineering"
   ]
  },
  {
   "cell_type": "markdown",
   "id": "66386d8f",
   "metadata": {},
   "source": [
    "***Get Dummy variable***"
   ]
  },
  {
   "cell_type": "code",
   "execution_count": null,
   "id": "5baf9439",
   "metadata": {},
   "outputs": [],
   "source": [
    "region_oht = pd.get_dummies(df_x[\"Region\"])\n",
    "country_oht = pd.get_dummies(df_x[\"Country\"])\n",
    "city_oht = pd.get_dummies(df_x[\"City\"])\n",
    "month_oht = pd.get_dummies(df_x[\"Month\"]) \n",
    "day_oht = pd.get_dummies(df_x[\"Day\"]) \n",
    "year_oht = pd.get_dummies(df_x[\"Year\"])\n",
    "print(\"Region OHT Shape: \", region_oht.shape)\n",
    "print(\"Country OHT Shape: \", country_oht.shape)\n",
    "print(\"City OHT Shape: \", city_oht.shape)\n",
    "print(\"Mounth OHT Shape: \",month_oht.shape)\n",
    "print(\"Day OHT Shape: \",day_oht.shape)\n",
    "print(\"Year OHT Shape: \",year_oht.shape)"
   ]
  },
  {
   "cell_type": "code",
   "execution_count": null,
   "id": "e7814a21",
   "metadata": {},
   "outputs": [],
   "source": [
    "df_x_oht = pd.concat([region_oht,day_oht,month_oht,year_oht],axis=1)\n",
    "\n",
    "df_x_oht.sample(n=5)"
   ]
  },
  {
   "cell_type": "code",
   "execution_count": null,
   "id": "531cb372",
   "metadata": {},
   "outputs": [],
   "source": [
    "print(\"Input Shape: \",df_x.shape)\n",
    "print(\"Input Shape with OneHotEncoder: \",df_x_oht.shape)\n",
    "print(\"Output Shape: \",df_y.shape) "
   ]
  },
  {
   "cell_type": "markdown",
   "id": "518cb617",
   "metadata": {},
   "source": [
    "***Splitting The Data Into Train Test***"
   ]
  },
  {
   "cell_type": "code",
   "execution_count": null,
   "id": "3cfb208e",
   "metadata": {},
   "outputs": [],
   "source": [
    "from sklearn.model_selection import train_test_split\n",
    "\n",
    "x_train,x_test,y_train,y_test = train_test_split(df_x_oht,df_y,test_size=0.30)"
   ]
  },
  {
   "cell_type": "code",
   "execution_count": null,
   "id": "c811719d",
   "metadata": {},
   "outputs": [],
   "source": [
    "print(\"x_train Shape ->\",x_train.shape)\n",
    "print(\"x_test Shape ->\",x_test.shape)\n",
    "print(\"y_train Shape ->\",y_train.shape)\n",
    "print(\"y_test Shape ->\",y_test.shape)"
   ]
  },
  {
   "cell_type": "markdown",
   "id": "b8559344",
   "metadata": {},
   "source": [
    "## Model Fitting "
   ]
  },
  {
   "cell_type": "markdown",
   "id": "028075ea",
   "metadata": {},
   "source": [
    "***Linear Regression***"
   ]
  },
  {
   "cell_type": "code",
   "execution_count": null,
   "id": "4b1eee0b",
   "metadata": {},
   "outputs": [],
   "source": [
    "from sklearn.linear_model import LinearRegression\n",
    "from sklearn.metrics import r2_score, mean_squared_error\n",
    "from sklearn.metrics import r2_score,mean_absolute_error\n",
    "lreg = LinearRegression()\n",
    "lreg.fit(x_train, y_train)\n",
    "# Make predictions on the test set\n",
    "y_pred = lreg.predict(x_test)"
   ]
  },
  {
   "cell_type": "code",
   "execution_count": null,
   "id": "f1171685",
   "metadata": {},
   "outputs": [],
   "source": [
    "# Flatten df_y to make it one-dimensional\n",
    "df_y_flat = np.array(y_test).flatten()\n",
    "lr_pred_flat = np.array(y_pred).flatten()"
   ]
  },
  {
   "cell_type": "code",
   "execution_count": null,
   "id": "bff6e791",
   "metadata": {},
   "outputs": [],
   "source": [
    "# Create a data frame with df_y_flat and svr_pred\n",
    "result_df_lr = pd.DataFrame({'Actual': df_y_flat, 'Predicted': lr_pred_flat})\n",
    "result_df_lr.head(10)"
   ]
  },
  {
   "cell_type": "code",
   "execution_count": null,
   "id": "03ebbbdb",
   "metadata": {},
   "outputs": [],
   "source": [
    "# Calculate R-squared\n",
    "r2 = r2_score(y_test, y_pred)\n",
    "\n",
    "# Calculate mean squared error\n",
    "mse = mean_squared_error(y_test, y_pred)\n",
    "\n",
    "\n",
    "# Calculate mean absolute error (MAE)\n",
    "mae = mean_absolute_error(y_test, y_pred)\n",
    "\n",
    "# Print the evaluation metrics\n",
    "print(\"R-squared:\", r2)\n",
    "print(\"Mean Squared Error:\", mse)\n",
    "print(\"Mean Absolute Error:\", mae)\n"
   ]
  },
  {
   "cell_type": "code",
   "execution_count": null,
   "id": "b6c0cae8",
   "metadata": {},
   "outputs": [],
   "source": [
    "# Get the coefficients and intercept\n",
    "coefficients = lreg.coef_\n",
    "intercept = lreg.intercept_\n",
    "\n",
    "# Print the coefficients and intercept\n",
    "print(\"Coefficients:\", coefficients)\n",
    "print(\"Intercept:\", intercept)"
   ]
  },
  {
   "cell_type": "markdown",
   "id": "8ffc0c69",
   "metadata": {},
   "source": [
    "## SVM"
   ]
  },
  {
   "cell_type": "code",
   "execution_count": null,
   "id": "6ebc034a",
   "metadata": {},
   "outputs": [],
   "source": [
    "from sklearn.svm import SVR\n",
    "\n",
    "svr_reg = SVR(kernel=\"rbf\") \n",
    "\n",
    "svr_reg.fit(x_train,y_train)\n",
    "\n",
    "svr_pred = svr_reg.predict(x_test)"
   ]
  },
  {
   "cell_type": "code",
   "execution_count": null,
   "id": "32a7ede4",
   "metadata": {},
   "outputs": [],
   "source": [
    "from sklearn.metrics import mean_squared_error, mean_absolute_error, r2_score\n",
    "\n",
    "# Calculate mean squared error (MSE)\n",
    "mse = mean_squared_error(y_test, svr_pred)\n",
    "print(\"Mean Squared Error:\", mse)\n",
    "\n",
    "# Calculate mean absolute error (MAE)\n",
    "mae = mean_absolute_error(y_test, svr_pred)\n",
    "print(\"Mean Absolute Error:\", mae)\n",
    "\n",
    "# Calculate R-squared score\n",
    "r2 = r2_score(y_test, svr_pred)\n",
    "print(\"R-squared Score:\", r2)"
   ]
  },
  {
   "cell_type": "code",
   "execution_count": null,
   "id": "8f745459",
   "metadata": {},
   "outputs": [],
   "source": [
    "# Flatten df_y to make it one-dimensional\n",
    "df_y_flat = np.array(y_test).flatten()\n",
    "svr_pred_flat = np.array(svr_pred).flatten()"
   ]
  },
  {
   "cell_type": "code",
   "execution_count": null,
   "id": "3585e695",
   "metadata": {},
   "outputs": [],
   "source": [
    "# Create a data frame with df_y_flat and svr_pred\n",
    "result_df_svr = pd.DataFrame({'Actual': df_y_flat, 'Predicted': svr_pred_flat})\n",
    "result_df_svr.head(10)"
   ]
  },
  {
   "cell_type": "code",
   "execution_count": null,
   "id": "163b12a0",
   "metadata": {},
   "outputs": [],
   "source": []
  },
  {
   "cell_type": "markdown",
   "id": "4a71f597",
   "metadata": {},
   "source": [
    "***Random Forest Decision Tree Regression***"
   ]
  },
  {
   "cell_type": "code",
   "execution_count": null,
   "id": "9c9c563e",
   "metadata": {},
   "outputs": [],
   "source": [
    "from sklearn.ensemble import RandomForestRegressor\n",
    "\n",
    "\n",
    "mdl_rf = RandomForestRegressor(n_estimators=11,random_state=0) \n",
    "\n",
    "mdl_rf.fit(x_train,y_train)\n",
    "\n",
    "rf_pred = mdl_rf.predict(x_test)"
   ]
  },
  {
   "cell_type": "code",
   "execution_count": null,
   "id": "ed30d347",
   "metadata": {},
   "outputs": [],
   "source": [
    "from sklearn.metrics import r2_score, mean_squared_error, mean_absolute_error\n",
    "\n",
    "# Calculate R-squared score\n",
    "r2_score_rfreg = r2_score(y_test, mdl_rf.predict(x_test))\n",
    "print(\"R-squared Score:\", r2_score_rfreg)\n",
    "\n",
    "# Calculate Mean Squared Error (MSE)\n",
    "mse_rfreg = mean_squared_error(y_test, mdl_rf.predict(x_test))\n",
    "print(\"Mean Squared Error:\", mse_rfreg)\n",
    "\n",
    "# Calculate Mean Absolute Error (MAE)\n",
    "mae_rfreg = mean_absolute_error(y_test, mdl_rf.predict(x_test))\n",
    "print(\"Mean Absolute Error:\", mae_rfreg)"
   ]
  },
  {
   "cell_type": "code",
   "execution_count": null,
   "id": "318e3d92",
   "metadata": {},
   "outputs": [],
   "source": [
    "import pandas as pd\n",
    "import numpy as np\n",
    "\n",
    "# Flatten df_y to make it one-dimensional\n",
    "y_test_flat = np.array(y_test).flatten()\n",
    "\n",
    "# Create a data frame with df_y_flat and svr_pred\n",
    "result_df_rf = pd.DataFrame({'Actual': y_test_flat, 'Predicted': rf_pred})\n",
    "\n",
    "result_df_rf.head(10)"
   ]
  },
  {
   "cell_type": "markdown",
   "id": "d5a7e779",
   "metadata": {},
   "source": [
    "***Polynomial Regression***"
   ]
  },
  {
   "cell_type": "code",
   "execution_count": null,
   "id": "f9eb112c",
   "metadata": {},
   "outputs": [],
   "source": [
    "from sklearn.preprocessing import PolynomialFeatures\n",
    "\n",
    "poly_2 = PolynomialFeatures(degree=2)\n",
    "\n",
    "x_poly_2 = poly_2.fit_transform(x_train)\n",
    "\n",
    "lr_mdl_2 = LinearRegression()\n",
    "\n",
    "lr_mdl_2.fit(x_poly_2,y_train)\n",
    "\n",
    "lr2_pred = lr_mdl_2.predict(poly_2.fit_transform(x_test))"
   ]
  },
  {
   "cell_type": "code",
   "execution_count": null,
   "id": "9c1907e1",
   "metadata": {},
   "outputs": [],
   "source": [
    "from sklearn.metrics import r2_score, mean_squared_error, mean_absolute_error\n",
    "\n",
    "# Calculate R-squared score\n",
    "r2Score_lr2 = r2_score(y_train, lr_mdl_2.predict(x_poly_2))\n",
    "print(\"R-squared Score:\", r2Score_lr2)\n",
    "\n",
    "# Calculate Mean Squared Error (MSE)\n",
    "mse_lr2 = mean_squared_error(y_train, lr_mdl_2.predict(x_poly_2))\n",
    "print(\"Mean Squared Error:\", mse_lr2)\n",
    "\n",
    "# Calculate Mean Absolute Error (MAE)\n",
    "mae_lr2 = mean_absolute_error(y_train, lr_mdl_2.predict(x_poly_2))\n",
    "print(\"Mean Absolute Error:\", mae_lr2)"
   ]
  },
  {
   "cell_type": "code",
   "execution_count": null,
   "id": "681994d1",
   "metadata": {},
   "outputs": [],
   "source": [
    "import numpy as np\n",
    "\n",
    "# Flatten df_y to make it one-dimensional\n",
    "df_y_flat = np.array(y_test).flatten()\n",
    "lr2_pred_flat = np.array(lr2_pred).flatten()"
   ]
  },
  {
   "cell_type": "code",
   "execution_count": null,
   "id": "73db56c3",
   "metadata": {},
   "outputs": [],
   "source": [
    "import pandas as pd\n",
    "\n",
    "# Create a data frame with df_y_flat and svr_pred\n",
    "result_df_poly = pd.DataFrame({'Actual': df_y_flat, 'Predicted': lr2_pred_flat})\n",
    "\n",
    "result_df_poly.head(10)"
   ]
  },
  {
   "cell_type": "code",
   "execution_count": null,
   "id": "458773b1",
   "metadata": {},
   "outputs": [],
   "source": []
  },
  {
   "cell_type": "code",
   "execution_count": null,
   "id": "4bbec3d6",
   "metadata": {},
   "outputs": [],
   "source": [
    "import pickle"
   ]
  },
  {
   "cell_type": "code",
   "execution_count": null,
   "id": "07351cff",
   "metadata": {},
   "outputs": [],
   "source": [
    "# Save the trained model\n",
    "filename = 'trained_model.sav'\n",
    "pickle.dump(lr_mdl_2, open(filename, 'wb'))"
   ]
  },
  {
   "cell_type": "code",
   "execution_count": null,
   "id": "f7f4a5d6",
   "metadata": {},
   "outputs": [],
   "source": [
    "import numpy as np\n",
    "\n",
    "# Load the saved model\n",
    "loaded_model = pickle.load(open('trained_model.sav', 'rb'))\n",
    "\n",
    "# Prepare the input data\n",
    "input_data = np.array([[77, 821, 0, 5, 1, 4, 5, 4, 4, 5, 4, 4, 2, 4, 4, 3, 1, 1, 0, 0, 1]])\n",
    "\n",
    "# Check the number of features in the input data\n",
    "num_features = input_data.shape[1]\n",
    "\n",
    "# Validate the number of features\n",
    "if num_features != loaded_model.coef_.shape[1]:\n",
    "    print(f\"Error: The input data has {num_features} features, but the model expects {loaded_model.coef_.shape[1]} features.\")\n",
    "else:\n",
    "    # Make the prediction\n",
    "    prediction = loaded_model.predict(input_data)\n",
    "    print(prediction[0])\n"
   ]
  },
  {
   "cell_type": "code",
   "execution_count": null,
   "id": "cf90c8de",
   "metadata": {},
   "outputs": [],
   "source": []
  }
 ],
 "metadata": {
  "kernelspec": {
   "display_name": "Python 3 (ipykernel)",
   "language": "python",
   "name": "python3"
  },
  "language_info": {
   "codemirror_mode": {
    "name": "ipython",
    "version": 3
   },
   "file_extension": ".py",
   "mimetype": "text/x-python",
   "name": "python",
   "nbconvert_exporter": "python",
   "pygments_lexer": "ipython3",
   "version": "3.11.8"
  }
 },
 "nbformat": 4,
 "nbformat_minor": 5
}
